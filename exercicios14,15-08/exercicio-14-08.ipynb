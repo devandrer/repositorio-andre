{
 "cells": [
  {
   "cell_type": "code",
   "execution_count": 29,
   "metadata": {},
   "outputs": [],
   "source": [
    "import pandas as pd\n",
    "from sklearn.model_selection import train_test_split\n",
    "from sklearn.tree import DecisionTreeClassifier"
   ]
  },
  {
   "cell_type": "code",
   "execution_count": 30,
   "metadata": {},
   "outputs": [],
   "source": [
    "caminho_arquivo = (r'C:\\Users\\andre_r_borges\\Downloads\\cliente_compras.xlsx')\n",
    "df_compras = pd.read_excel (caminho_arquivo)"
   ]
  },
  {
   "cell_type": "code",
   "execution_count": null,
   "metadata": {},
   "outputs": [],
   "source": [
    "df_compras.columns = ['Tempo_Gasto_Site', 'Numero_Itens_Visualizados','Compras_Anteriores', 'Compra']\n",
    "df_compras"
   ]
  },
  {
   "cell_type": "code",
   "execution_count": 32,
   "metadata": {},
   "outputs": [],
   "source": [
    "x = df_compras[['Tempo_Gasto_Site', 'Numero_Itens_Visualizados', 'Compras_Anteriores','Compra']]"
   ]
  },
  {
   "cell_type": "code",
   "execution_count": 33,
   "metadata": {},
   "outputs": [],
   "source": [
    "mapeamento_Compras_Anteriores = {'Sim': 0,'Não': 1}\n",
    "mapeamento_Compra = {'Sim': 0,'Não': 1}"
   ]
  },
  {
   "cell_type": "code",
   "execution_count": 35,
   "metadata": {},
   "outputs": [],
   "source": [
    "df_compras['Compras_Anteriores'] = df_compras ['Compras_Anteriores'].map(mapeamento_Compras_Anteriores)\n",
    "df_compras['Compra'] = df_compras ['Compra'].map(mapeamento_Compras_Anteriores)"
   ]
  }
 ],
 "metadata": {
  "interpreter": {
   "hash": "ac59ebe37160ed0dfa835113d9b8498d9f09ceb179beaac4002f036b9467c963"
  },
  "kernelspec": {
   "display_name": "Python 3.9.7 64-bit (system)",
   "language": "python",
   "name": "python3"
  },
  "language_info": {
   "codemirror_mode": {
    "name": "ipython",
    "version": 3
   },
   "file_extension": ".py",
   "mimetype": "text/x-python",
   "name": "python",
   "nbconvert_exporter": "python",
   "pygments_lexer": "ipython3",
   "version": "3.9.7"
  },
  "orig_nbformat": 4
 },
 "nbformat": 4,
 "nbformat_minor": 2
}
